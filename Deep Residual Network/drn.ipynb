{
 "cells": [
  {
   "cell_type": "code",
   "execution_count": 1,
   "metadata": {
    "collapsed": true
   },
   "outputs": [],
   "source": [
    "import torch\n",
    "import torch.nn as nn\n",
    "import torchvision\n",
    "import torchvision.transforms as transforms\n",
    "\n",
    "import matplotlib.pyplot as plt\n",
    "\n",
    "%matplotlib inline"
   ]
  },
  {
   "cell_type": "markdown",
   "metadata": {},
   "source": [
    "### Device configuration"
   ]
  },
  {
   "cell_type": "code",
   "execution_count": 2,
   "metadata": {
    "collapsed": true
   },
   "outputs": [],
   "source": [
    "device = torch.device('cuda:0' if torch.cuda.is_available() else 'cpu')"
   ]
  },
  {
   "cell_type": "markdown",
   "metadata": {},
   "source": [
    "### Hyper parameters"
   ]
  },
  {
   "cell_type": "code",
   "execution_count": 3,
   "metadata": {
    "collapsed": true
   },
   "outputs": [],
   "source": [
    "num_epochs = 80\n",
    "learning_rate = 0.1"
   ]
  },
  {
   "cell_type": "markdown",
   "metadata": {},
   "source": [
    "### Image preprocessing modules"
   ]
  },
  {
   "cell_type": "code",
   "execution_count": 4,
   "metadata": {
    "collapsed": false
   },
   "outputs": [],
   "source": [
    "transform = transforms.Compose([transforms.Pad(4), \n",
    "                                transforms.RandomHorizontalFlip(), \n",
    "                                transforms.RandomCrop(32),\n",
    "                                transforms.ToTensor()])"
   ]
  },
  {
   "cell_type": "markdown",
   "metadata": {},
   "source": [
    "### Cifar-10 dataset and dataloader"
   ]
  },
  {
   "cell_type": "code",
   "execution_count": 5,
   "metadata": {
    "collapsed": false
   },
   "outputs": [
    {
     "name": "stdout",
     "output_type": "stream",
     "text": [
      "Files already downloaded and verified\n",
      "Files already downloaded and verified\n"
     ]
    }
   ],
   "source": [
    "train_dataset = torchvision.datasets.CIFAR10(download=True, root='./cifar10', train=True, transform=transform)\n",
    "test_dataset = torchvision.datasets.CIFAR10(download=True, root='./cifar10', train=False, transform=transforms.ToTensor())\n",
    "\n",
    "train_dataloader = torch.utils.data.DataLoader(batch_size=128, dataset=train_dataset, num_workers=4, shuffle=True)\n",
    "test_dataloader = torch.utils.data.DataLoader(batch_size=128, dataset=test_dataset, num_workers=4, shuffle=False)"
   ]
  },
  {
   "cell_type": "markdown",
   "metadata": {},
   "source": [
    "### 3*3 convolution"
   ]
  },
  {
   "cell_type": "code",
   "execution_count": 6,
   "metadata": {
    "collapsed": true
   },
   "outputs": [],
   "source": [
    "def conv_3x3(in_channels, out_channels, stride=1):\n",
    "    return nn.Conv2d(kernel_size=3, \n",
    "                     in_channels=in_channels, \n",
    "                     out_channels=out_channels, \n",
    "                     stride=stride, \n",
    "                     padding=1)"
   ]
  },
  {
   "cell_type": "markdown",
   "metadata": {},
   "source": [
    "### Residual block"
   ]
  },
  {
   "cell_type": "code",
   "execution_count": 7,
   "metadata": {
    "collapsed": true
   },
   "outputs": [],
   "source": [
    "class ResidualBlock(nn.Module):\n",
    "    \n",
    "    def __init__(self, in_channels, out_channels, stride=1, downsample=None):\n",
    "        super(ResidualBlock, self).__init__()\n",
    "        \n",
    "        self.conv1 = conv_3x3(in_channels, out_channels, stride)\n",
    "        self.bn = nn.BatchNorm2d(out_channels)\n",
    "        self.relu = nn.ReLU()\n",
    "        \n",
    "        self.conv2 = conv_3x3(out_channels, out_channels)\n",
    "        self.downsample = downsample\n",
    "        \n",
    "    def forward(self, x):\n",
    "\n",
    "        residual = x\n",
    "        \n",
    "        x = self.conv1(x)\n",
    "        x = self.bn(x)\n",
    "        x = self.relu(x)\n",
    "        \n",
    "        x = self.conv2(x)\n",
    "        x = self.bn(x)\n",
    "        \n",
    "        if self.downsample:\n",
    "            residual = self.downsample(residual)\n",
    "            \n",
    "        return self.relu(x + residual)"
   ]
  },
  {
   "cell_type": "markdown",
   "metadata": {},
   "source": [
    "### ResNet"
   ]
  },
  {
   "cell_type": "code",
   "execution_count": 8,
   "metadata": {
    "collapsed": false
   },
   "outputs": [],
   "source": [
    "class ResNet(nn.Module):\n",
    "    \n",
    "    def __init__(self, block_class, n, num_classes=10):\n",
    "        super(ResNet, self).__init__()\n",
    "        \n",
    "        self.n = n\n",
    "        self.block_class = block_class\n",
    "        \n",
    "        self.conv = conv_3x3(3, 16)\n",
    "        self.bn = nn.BatchNorm2d(16)\n",
    "        self.relu = nn.ReLU(inplace=True)\n",
    "        \n",
    "        self.res_block_16channels = self.make_res_block(16, 16)\n",
    "        self.res_block_32channels = self.make_res_block(16, 32, 2)\n",
    "        self.res_block_64channels = self.make_res_block(32, 64, 2)\n",
    "        \n",
    "        self.avg_pool = nn.AvgPool2d(kernel_size=8)\n",
    "        self.fc = nn.Linear(64, num_classes)\n",
    "        \n",
    "    def make_res_block(self, in_channels, out_channels, stride=1):\n",
    "        \n",
    "        layers = []\n",
    "        \n",
    "        # generate downsample block\n",
    "        downsample = None\n",
    "        if stride != 1:\n",
    "            downsample = nn.Sequential(nn.Conv2d(in_channels, out_channels, 1, stride), \n",
    "                                       nn.BatchNorm2d(out_channels))\n",
    "        layers.append(self.block_class(in_channels, out_channels, stride, downsample))\n",
    "    \n",
    "        # generate other blocks\n",
    "        for _ in range(self.n - 1):\n",
    "            layers.append(self.block_class(in_channels, out_channels))\n",
    "            \n",
    "        return nn.Sequential(*layers)\n",
    "    \n",
    "    def forward(self, x):\n",
    "        x = self.conv(x)\n",
    "        x = self.bn(x)\n",
    "        x = self.relu(x)\n",
    "        \n",
    "        x = self.res_block_16channels(x)\n",
    "        x = self.res_block_32channels(x)\n",
    "        x = self.res_block_64channels(x)\n",
    "        \n",
    "        x = self.avg_pool(x)\n",
    "        x = x.view(x.size(0), -1)\n",
    "        x = self.fc(x)\n",
    "        \n",
    "        return x"
   ]
  },
  {
   "cell_type": "markdown",
   "metadata": {},
   "source": [
    "### Define models etc."
   ]
  },
  {
   "cell_type": "code",
   "execution_count": 9,
   "metadata": {
    "collapsed": false
   },
   "outputs": [],
   "source": [
    "model = ResNet(ResidualBlock, 1).to(device)\n",
    "\n",
    "optimizer = torch.optim.SGD(lr=learning_rate, momentum=0.9, weight_decay=0.0001, params=model.parameters())\n",
    "criterion = nn.CrossEntropyLoss()"
   ]
  },
  {
   "cell_type": "markdown",
   "metadata": {},
   "source": [
    "### Update learning rate"
   ]
  },
  {
   "cell_type": "code",
   "execution_count": 10,
   "metadata": {
    "collapsed": true
   },
   "outputs": [],
   "source": [
    "def update_lr(optimizer, lr):\n",
    "    for param_group in optimizer.param_groups:\n",
    "        param_group['lr'] = lr"
   ]
  },
  {
   "cell_type": "markdown",
   "metadata": {},
   "source": [
    "### Train the model"
   ]
  },
  {
   "cell_type": "code",
   "execution_count": 11,
   "metadata": {
    "collapsed": false
   },
   "outputs": [
    {
     "name": "stdout",
     "output_type": "stream",
     "text": [
      "epoch 0 round 100 loss 1.690671443939209\n",
      "epoch 0 round 200 loss 1.6107898950576782\n",
      "epoch 0 round 300 loss 1.3605271577835083\n",
      "epoch 1 round 100 loss 1.3233120441436768\n",
      "epoch 1 round 200 loss 1.1400470733642578\n",
      "epoch 1 round 300 loss 0.9657655358314514\n",
      "epoch 2 round 100 loss 1.081267237663269\n",
      "epoch 2 round 200 loss 1.0600577592849731\n",
      "epoch 2 round 300 loss 1.2296603918075562\n",
      "epoch 3 round 100 loss 1.0491931438446045\n",
      "epoch 3 round 200 loss 0.8732748031616211\n",
      "epoch 3 round 300 loss 0.9096193313598633\n",
      "epoch 4 round 100 loss 0.8006299734115601\n",
      "epoch 4 round 200 loss 0.910151481628418\n",
      "epoch 4 round 300 loss 0.8129188418388367\n",
      "epoch 5 round 100 loss 0.7545234560966492\n",
      "epoch 5 round 200 loss 0.7210104465484619\n",
      "epoch 5 round 300 loss 0.7199392914772034\n",
      "epoch 6 round 100 loss 0.9925362467765808\n",
      "epoch 6 round 200 loss 0.7394264936447144\n",
      "epoch 6 round 300 loss 0.7254444360733032\n",
      "epoch 7 round 100 loss 0.5368683338165283\n",
      "epoch 7 round 200 loss 0.6711487174034119\n",
      "epoch 7 round 300 loss 0.7114318609237671\n",
      "epoch 8 round 100 loss 0.738215446472168\n",
      "epoch 8 round 200 loss 0.6008328199386597\n",
      "epoch 8 round 300 loss 0.6816421747207642\n",
      "epoch 9 round 100 loss 0.5963383316993713\n",
      "epoch 9 round 200 loss 0.6457345485687256\n",
      "epoch 9 round 300 loss 0.5648038387298584\n",
      "epoch 10 round 100 loss 0.686881422996521\n",
      "epoch 10 round 200 loss 0.6770750880241394\n",
      "epoch 10 round 300 loss 0.6338993906974792\n",
      "epoch 11 round 100 loss 0.5619896054267883\n",
      "epoch 11 round 200 loss 0.5412932634353638\n",
      "epoch 11 round 300 loss 0.6254390478134155\n",
      "epoch 12 round 100 loss 0.5760749578475952\n",
      "epoch 12 round 200 loss 0.41686707735061646\n",
      "epoch 12 round 300 loss 0.4975370764732361\n",
      "epoch 13 round 100 loss 0.5819594264030457\n",
      "epoch 13 round 200 loss 0.6226005554199219\n",
      "epoch 13 round 300 loss 0.514112114906311\n",
      "epoch 14 round 100 loss 0.42689311504364014\n",
      "epoch 14 round 200 loss 0.6245483756065369\n",
      "epoch 14 round 300 loss 0.4253692924976349\n",
      "epoch 15 round 100 loss 0.6247087121009827\n",
      "epoch 15 round 200 loss 0.5401099324226379\n",
      "epoch 15 round 300 loss 0.5815327763557434\n",
      "epoch 16 round 100 loss 0.5128251314163208\n",
      "epoch 16 round 200 loss 0.5412409901618958\n",
      "epoch 16 round 300 loss 0.4785791337490082\n",
      "epoch 17 round 100 loss 0.46020883321762085\n",
      "epoch 17 round 200 loss 0.443521112203598\n",
      "epoch 17 round 300 loss 0.6333497166633606\n",
      "epoch 18 round 100 loss 0.5250163078308105\n",
      "epoch 18 round 200 loss 0.6970936059951782\n",
      "epoch 18 round 300 loss 0.5537794232368469\n",
      "epoch 19 round 100 loss 0.4046095907688141\n",
      "epoch 19 round 200 loss 0.6276988983154297\n",
      "epoch 19 round 300 loss 0.4691486060619354\n",
      "epoch 20 round 100 loss 0.44100338220596313\n",
      "epoch 20 round 200 loss 0.4082780182361603\n",
      "epoch 20 round 300 loss 0.35502421855926514\n",
      "epoch 21 round 100 loss 0.36658936738967896\n",
      "epoch 21 round 200 loss 0.4986330270767212\n",
      "epoch 21 round 300 loss 0.5060820579528809\n",
      "epoch 22 round 100 loss 0.38922959566116333\n",
      "epoch 22 round 200 loss 0.29310959577560425\n",
      "epoch 22 round 300 loss 0.5123393535614014\n",
      "epoch 23 round 100 loss 0.41778427362442017\n",
      "epoch 23 round 200 loss 0.43755534291267395\n",
      "epoch 23 round 300 loss 0.3744065761566162\n",
      "epoch 24 round 100 loss 0.36485978960990906\n",
      "epoch 24 round 200 loss 0.4581059217453003\n",
      "epoch 24 round 300 loss 0.3680577874183655\n",
      "epoch 25 round 100 loss 0.32875269651412964\n",
      "epoch 25 round 200 loss 0.3740454912185669\n",
      "epoch 25 round 300 loss 0.34998202323913574\n",
      "epoch 26 round 100 loss 0.419301837682724\n",
      "epoch 26 round 200 loss 0.4093761742115021\n",
      "epoch 26 round 300 loss 0.41279977560043335\n",
      "epoch 27 round 100 loss 0.3663613498210907\n",
      "epoch 27 round 200 loss 0.4634005129337311\n",
      "epoch 27 round 300 loss 0.4223178029060364\n",
      "epoch 28 round 100 loss 0.4795084595680237\n",
      "epoch 28 round 200 loss 0.38074639439582825\n",
      "epoch 28 round 300 loss 0.4601942300796509\n",
      "epoch 29 round 100 loss 0.4278428256511688\n",
      "epoch 29 round 200 loss 0.4304066002368927\n",
      "epoch 29 round 300 loss 0.3579699397087097\n",
      "epoch 30 round 100 loss 0.38748976588249207\n",
      "epoch 30 round 200 loss 0.29210513830184937\n",
      "epoch 30 round 300 loss 0.42161810398101807\n",
      "epoch 31 round 100 loss 0.4553825557231903\n",
      "epoch 31 round 200 loss 0.3550413250923157\n",
      "epoch 31 round 300 loss 0.4110528826713562\n",
      "epoch 32 round 100 loss 0.49922534823417664\n",
      "epoch 32 round 200 loss 0.3930528461933136\n",
      "epoch 32 round 300 loss 0.28889235854148865\n",
      "epoch 33 round 100 loss 0.3093055784702301\n",
      "epoch 33 round 200 loss 0.31184121966362\n",
      "epoch 33 round 300 loss 0.48442137241363525\n",
      "epoch 34 round 100 loss 0.2703627347946167\n",
      "epoch 34 round 200 loss 0.27461469173431396\n",
      "epoch 34 round 300 loss 0.35806071758270264\n",
      "epoch 35 round 100 loss 0.4182168245315552\n",
      "epoch 35 round 200 loss 0.31345802545547485\n",
      "epoch 35 round 300 loss 0.47613129019737244\n",
      "epoch 36 round 100 loss 0.4387245178222656\n",
      "epoch 36 round 200 loss 0.3836780786514282\n",
      "epoch 36 round 300 loss 0.26418620347976685\n",
      "epoch 37 round 100 loss 0.42940041422843933\n",
      "epoch 37 round 200 loss 0.39315474033355713\n",
      "epoch 37 round 300 loss 0.41180938482284546\n",
      "epoch 38 round 100 loss 0.3835233449935913\n",
      "epoch 38 round 200 loss 0.3576010763645172\n",
      "epoch 38 round 300 loss 0.2704025208950043\n",
      "epoch 39 round 100 loss 0.2793312072753906\n",
      "epoch 39 round 200 loss 0.5170012712478638\n",
      "epoch 39 round 300 loss 0.24112606048583984\n",
      "epoch 40 round 100 loss 0.39965033531188965\n",
      "epoch 40 round 200 loss 0.22776131331920624\n",
      "epoch 40 round 300 loss 0.3690573275089264\n",
      "epoch 41 round 100 loss 0.2554200291633606\n",
      "epoch 41 round 200 loss 0.3181496858596802\n",
      "epoch 41 round 300 loss 0.38311076164245605\n",
      "epoch 42 round 100 loss 0.32854917645454407\n",
      "epoch 42 round 200 loss 0.2756373882293701\n",
      "epoch 42 round 300 loss 0.38534843921661377\n",
      "epoch 43 round 100 loss 0.24049228429794312\n",
      "epoch 43 round 200 loss 0.32807573676109314\n",
      "epoch 43 round 300 loss 0.2203006148338318\n",
      "epoch 44 round 100 loss 0.34132158756256104\n",
      "epoch 44 round 200 loss 0.2604798972606659\n",
      "epoch 44 round 300 loss 0.22525738179683685\n",
      "epoch 45 round 100 loss 0.26137226819992065\n",
      "epoch 45 round 200 loss 0.5000411868095398\n",
      "epoch 45 round 300 loss 0.30331146717071533\n",
      "epoch 46 round 100 loss 0.3662053644657135\n",
      "epoch 46 round 200 loss 0.3193589746952057\n",
      "epoch 46 round 300 loss 0.3808395266532898\n",
      "epoch 47 round 100 loss 0.3757944107055664\n",
      "epoch 47 round 200 loss 0.2752561867237091\n",
      "epoch 47 round 300 loss 0.35323017835617065\n",
      "epoch 48 round 100 loss 0.3727424740791321\n",
      "epoch 48 round 200 loss 0.3902036249637604\n",
      "epoch 48 round 300 loss 0.33346858620643616\n",
      "epoch 49 round 100 loss 0.34080249071121216\n",
      "epoch 49 round 200 loss 0.46221956610679626\n",
      "epoch 49 round 300 loss 0.3170333802700043\n",
      "epoch 50 round 100 loss 0.3342292010784149\n",
      "epoch 50 round 200 loss 0.22181101143360138\n",
      "epoch 50 round 300 loss 0.3204893171787262\n",
      "epoch 51 round 100 loss 0.2458345592021942\n",
      "epoch 51 round 200 loss 0.25390005111694336\n",
      "epoch 51 round 300 loss 0.33523502945899963\n",
      "epoch 52 round 100 loss 0.2199665904045105\n",
      "epoch 52 round 200 loss 0.3602222502231598\n",
      "epoch 52 round 300 loss 0.3405856788158417\n",
      "epoch 53 round 100 loss 0.1782604604959488\n",
      "epoch 53 round 200 loss 0.2967180013656616\n",
      "epoch 53 round 300 loss 0.3550795614719391\n",
      "epoch 54 round 100 loss 0.35101571679115295\n",
      "epoch 54 round 200 loss 0.29536086320877075\n",
      "epoch 54 round 300 loss 0.30780428647994995\n",
      "epoch 55 round 100 loss 0.23891091346740723\n",
      "epoch 55 round 200 loss 0.3817565143108368\n",
      "epoch 55 round 300 loss 0.369187593460083\n",
      "epoch 56 round 100 loss 0.4013592004776001\n",
      "epoch 56 round 200 loss 0.30482611060142517\n",
      "epoch 56 round 300 loss 0.24413612484931946\n",
      "epoch 57 round 100 loss 0.34602227807044983\n",
      "epoch 57 round 200 loss 0.2790282964706421\n",
      "epoch 57 round 300 loss 0.2449761927127838\n",
      "epoch 58 round 100 loss 0.26928436756134033\n",
      "epoch 58 round 200 loss 0.276002436876297\n",
      "epoch 58 round 300 loss 0.2949118912220001\n",
      "epoch 59 round 100 loss 0.2592068612575531\n",
      "epoch 59 round 200 loss 0.3648819625377655\n",
      "epoch 59 round 300 loss 0.3255864083766937\n",
      "epoch 60 round 100 loss 0.21366813778877258\n",
      "epoch 60 round 200 loss 0.26117587089538574\n",
      "epoch 60 round 300 loss 0.26974061131477356\n",
      "epoch 61 round 100 loss 0.31894877552986145\n",
      "epoch 61 round 200 loss 0.26081588864326477\n",
      "epoch 61 round 300 loss 0.2746659517288208\n",
      "epoch 62 round 100 loss 0.24582915008068085\n",
      "epoch 62 round 200 loss 0.2827588617801666\n",
      "epoch 62 round 300 loss 0.22198273241519928\n",
      "epoch 63 round 100 loss 0.3234618902206421\n",
      "epoch 63 round 200 loss 0.26744601130485535\n",
      "epoch 63 round 300 loss 0.3298514485359192\n",
      "epoch 64 round 100 loss 0.31101086735725403\n",
      "epoch 64 round 200 loss 0.2902396321296692\n",
      "epoch 64 round 300 loss 0.31312355399131775\n",
      "epoch 65 round 100 loss 0.19468995928764343\n",
      "epoch 65 round 200 loss 0.3142009973526001\n",
      "epoch 65 round 300 loss 0.2897399365901947\n",
      "epoch 66 round 100 loss 0.28581738471984863\n",
      "epoch 66 round 200 loss 0.3429158627986908\n",
      "epoch 66 round 300 loss 0.21547046303749084\n",
      "epoch 67 round 100 loss 0.30581381916999817\n",
      "epoch 67 round 200 loss 0.3053785562515259\n",
      "epoch 67 round 300 loss 0.4013913869857788\n",
      "epoch 68 round 100 loss 0.23124200105667114\n",
      "epoch 68 round 200 loss 0.30307337641716003\n",
      "epoch 68 round 300 loss 0.20194225013256073\n",
      "epoch 69 round 100 loss 0.21229906380176544\n",
      "epoch 69 round 200 loss 0.3197937607765198\n",
      "epoch 69 round 300 loss 0.21984241902828217\n",
      "epoch 70 round 100 loss 0.27854791283607483\n",
      "epoch 70 round 200 loss 0.20889025926589966\n",
      "epoch 70 round 300 loss 0.40984219312667847\n",
      "epoch 71 round 100 loss 0.3993827700614929\n",
      "epoch 71 round 200 loss 0.27221113443374634\n",
      "epoch 71 round 300 loss 0.2935960292816162\n",
      "epoch 72 round 100 loss 0.22649997472763062\n",
      "epoch 72 round 200 loss 0.38231945037841797\n",
      "epoch 72 round 300 loss 0.3299025297164917\n",
      "epoch 73 round 100 loss 0.2996167540550232\n",
      "epoch 73 round 200 loss 0.20526379346847534\n",
      "epoch 73 round 300 loss 0.24381780624389648\n",
      "epoch 74 round 100 loss 0.31956541538238525\n",
      "epoch 74 round 200 loss 0.3181077241897583\n",
      "epoch 74 round 300 loss 0.2630067467689514\n",
      "epoch 75 round 100 loss 0.2858927249908447\n",
      "epoch 75 round 200 loss 0.3631148636341095\n",
      "epoch 75 round 300 loss 0.2624776363372803\n",
      "epoch 76 round 100 loss 0.27086031436920166\n",
      "epoch 76 round 200 loss 0.1879052221775055\n",
      "epoch 76 round 300 loss 0.3564768433570862\n",
      "epoch 77 round 100 loss 0.2704036235809326\n",
      "epoch 77 round 200 loss 0.2674788236618042\n",
      "epoch 77 round 300 loss 0.256635844707489\n",
      "epoch 78 round 100 loss 0.31707024574279785\n",
      "epoch 78 round 200 loss 0.2596186697483063\n",
      "epoch 78 round 300 loss 0.2661530077457428\n",
      "epoch 79 round 100 loss 0.3087567389011383\n",
      "epoch 79 round 200 loss 0.37601423263549805\n",
      "epoch 79 round 300 loss 0.2332150936126709\n"
     ]
    }
   ],
   "source": [
    "losses = []\n",
    "curr_lr = learning_rate\n",
    "for epoch in range(num_epochs):\n",
    "    \n",
    "    total = 0\n",
    "    correct = 0\n",
    "    \n",
    "    for i, (images, labels) in enumerate(train_dataloader):\n",
    "        \n",
    "        images = images.to(device)\n",
    "        labels = labels.to(device)\n",
    "        \n",
    "        # forward\n",
    "        outputs = model(images)\n",
    "    \n",
    "        # loss\n",
    "        loss = criterion(outputs, labels)\n",
    "        losses.append(loss)\n",
    "        \n",
    "        # backward\n",
    "        model.zero_grad()\n",
    "        loss.backward()\n",
    "        optimizer.step()\n",
    "        \n",
    "        # loss\n",
    "        if (i + 1) % 100 == 0:\n",
    "            print('epoch {} round {} loss {}'.format(epoch, i+1, loss))\n",
    "            \n",
    "    # update learning rate\n",
    "    if (epoch + 1) % 20 == 0:\n",
    "        curr_lr /= 3\n",
    "        update_lr(optimizer, curr_lr)"
   ]
  },
  {
   "cell_type": "markdown",
   "metadata": {},
   "source": [
    "### Plot training curve"
   ]
  },
  {
   "cell_type": "code",
   "execution_count": 12,
   "metadata": {
    "collapsed": false
   },
   "outputs": [
    {
     "data": {
      "image/png": "[encoded data removed]",
      "text/plain": [
       "<Figure size 1440x720 with 1 Axes>"
      ]
     },
     "metadata": {},
     "output_type": "display_data"
    }
   ],
   "source": [
    "plt.figure(figsize=(20, 10))\n",
    "plt.plot(losses)\n",
    "\n",
    "plt.title('training loss')\n",
    "\n",
    "plt.xlabel('iteration')\n",
    "plt.ylabel('training loss')\n",
    "\n",
    "plt.grid(True)\n",
    "plt.savefig('./train_curve.png')"
   ]
  },
  {
   "cell_type": "markdown",
   "metadata": {},
   "source": [
    "### Test the model"
   ]
  },
  {
   "cell_type": "code",
   "execution_count": 13,
   "metadata": {
    "collapsed": false
   },
   "outputs": [
    {
     "name": "stdout",
     "output_type": "stream",
     "text": [
      "test accuracy: 0.1557\n"
     ]
    }
   ],
   "source": [
    "model.eval()\n",
    "\n",
    "with torch.no_grad():\n",
    "    \n",
    "    total = 0\n",
    "    correct = 0\n",
    "    \n",
    "    for images, labels in test_dataloader:\n",
    "        \n",
    "        images = images.to(device)\n",
    "        labels = labels.to(device)\n",
    "        \n",
    "        outputs = model(images)\n",
    "        \n",
    "        _, prediction = torch.max(outputs.data, 1)\n",
    "        \n",
    "        total += labels.size(0)\n",
    "        correct += (prediction == labels).sum().item()\n",
    "    \n",
    "    print('test accuracy: {}'.format(correct / total))"
   ]
  },
  {
   "cell_type": "code",
   "execution_count": 14,
   "metadata": {
    "collapsed": true
   },
   "outputs": [],
   "source": []
  }
 ],
 "metadata": {
  "kernelspec": {
   "display_name": "Python 3",
   "language": "python",
   "name": "python3"
  },
  "language_info": {
   "codemirror_mode": {
    "name": "ipython",
    "version": 3
   },
   "file_extension": ".py",
   "mimetype": "text/x-python",
   "name": "python",
   "nbconvert_exporter": "python",
   "pygments_lexer": "ipython3",
   "version": "3.6.5"
  }
 },
 "nbformat": 4,
 "nbformat_minor": 2
}
