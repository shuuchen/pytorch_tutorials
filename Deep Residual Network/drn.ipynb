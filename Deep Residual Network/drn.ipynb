{
 "cells": [
  {
   "cell_type": "code",
   "execution_count": 1,
   "metadata": {
    "collapsed": true
   },
   "outputs": [],
   "source": [
    "import torch\n",
    "import torch.nn as nn\n",
    "import torchvision\n",
    "import torchvision.transforms as transforms\n",
    "\n",
    "import matplotlib.pyplot as plt\n",
    "\n",
    "%matplotlib inline"
   ]
  },
  {
   "cell_type": "markdown",
   "metadata": {},
   "source": [
    "### Device configuration"
   ]
  },
  {
   "cell_type": "code",
   "execution_count": 2,
   "metadata": {
    "collapsed": true
   },
   "outputs": [],
   "source": [
    "device = torch.device('cuda:0' if torch.cuda.is_available() else 'cpu')"
   ]
  },
  {
   "cell_type": "markdown",
   "metadata": {},
   "source": [
    "### Hyper parameters"
   ]
  },
  {
   "cell_type": "code",
   "execution_count": 3,
   "metadata": {
    "collapsed": true
   },
   "outputs": [],
   "source": [
    "num_epochs = 1\n",
    "learning_rate = 0.1"
   ]
  },
  {
   "cell_type": "markdown",
   "metadata": {},
   "source": [
    "### Image preprocessing modules"
   ]
  },
  {
   "cell_type": "code",
   "execution_count": 4,
   "metadata": {
    "collapsed": false
   },
   "outputs": [],
   "source": [
    "transform = transforms.Compose([transforms.Pad(4), \n",
    "                                transforms.RandomHorizontalFlip(), \n",
    "                                transforms.RandomCrop(32),\n",
    "                                transforms.ToTensor()])"
   ]
  },
  {
   "cell_type": "markdown",
   "metadata": {},
   "source": [
    "### Cifar-10 dataset and dataloader"
   ]
  },
  {
   "cell_type": "code",
   "execution_count": 5,
   "metadata": {
    "collapsed": false
   },
   "outputs": [
    {
     "name": "stdout",
     "output_type": "stream",
     "text": [
      "Files already downloaded and verified\n",
      "Files already downloaded and verified\n"
     ]
    }
   ],
   "source": [
    "train_dataset = torchvision.datasets.CIFAR10(download=True, root='./cifar10', train=True, transform=transform)\n",
    "test_dataset = torchvision.datasets.CIFAR10(download=True, root='./cifar10', train=False, transform=transforms.ToTensor())\n",
    "\n",
    "train_dataloader = torch.utils.data.DataLoader(batch_size=128, dataset=train_dataset, num_workers=4, shuffle=True)\n",
    "test_dataloader = torch.utils.data.DataLoader(batch_size=128, dataset=test_dataset, num_workers=4, shuffle=False)"
   ]
  },
  {
   "cell_type": "markdown",
   "metadata": {},
   "source": [
    "### 3*3 convolution"
   ]
  },
  {
   "cell_type": "code",
   "execution_count": 6,
   "metadata": {
    "collapsed": true
   },
   "outputs": [],
   "source": [
    "def conv_3x3(in_channels, out_channels, stride=1):\n",
    "    return nn.Conv2d(kernel_size=3, \n",
    "                     in_channels=in_channels, \n",
    "                     out_channels=out_channels, \n",
    "                     stride=stride, \n",
    "                     padding=1)"
   ]
  },
  {
   "cell_type": "markdown",
   "metadata": {},
   "source": [
    "### Residual block"
   ]
  },
  {
   "cell_type": "code",
   "execution_count": 7,
   "metadata": {
    "collapsed": true
   },
   "outputs": [],
   "source": [
    "class ResidualBlock(nn.Module):\n",
    "    \n",
    "    def __init__(self, in_channels, out_channels, stride=1, downsample=None):\n",
    "        super(ResidualBlock, self).__init__()\n",
    "        \n",
    "        self.conv1 = conv_3x3(in_channels, out_channels, stride)\n",
    "        self.bn = nn.BatchNorm2d(out_channels)\n",
    "        self.relu = nn.ReLU()\n",
    "        \n",
    "        self.conv2 = conv_3x3(out_channels, out_channels)\n",
    "        self.downsample = downsample\n",
    "        \n",
    "    def forward(self, x):\n",
    "\n",
    "        residual = x\n",
    "        \n",
    "        x = self.conv1(x)\n",
    "        x = self.bn(x)\n",
    "        x = self.relu(x)\n",
    "        \n",
    "        x = self.conv2(x)\n",
    "        x = self.bn(x)\n",
    "        \n",
    "        if self.downsample:\n",
    "            residual = self.downsample(residual)\n",
    "            \n",
    "        return self.relu(x + residual)"
   ]
  },
  {
   "cell_type": "markdown",
   "metadata": {},
   "source": [
    "### ResNet"
   ]
  },
  {
   "cell_type": "code",
   "execution_count": 8,
   "metadata": {
    "collapsed": false
   },
   "outputs": [],
   "source": [
    "class ResNet(nn.Module):\n",
    "    \n",
    "    def __init__(self, block_class, n, num_classes=10):\n",
    "        super(ResNet, self).__init__()\n",
    "        \n",
    "        self.n = n\n",
    "        self.block_class = block_class\n",
    "        \n",
    "        self.conv = conv_3x3(3, 16)\n",
    "        self.bn = nn.BatchNorm2d(16)\n",
    "        self.relu = nn.ReLU(inplace=True)\n",
    "        \n",
    "        self.res_block_16channels = self.make_res_block(16, 16)\n",
    "        self.res_block_32channels = self.make_res_block(16, 32, 2)\n",
    "        self.res_block_64channels = self.make_res_block(32, 64, 2)\n",
    "        \n",
    "        self.avg_pool = nn.AvgPool2d(kernel_size=8)\n",
    "        self.fc = nn.Linear(64, num_classes)\n",
    "        \n",
    "    def make_res_block(self, in_channels, out_channels, stride=1):\n",
    "        \n",
    "        layers = []\n",
    "        \n",
    "        # generate downsample block\n",
    "        downsample = None\n",
    "        if stride != 1:\n",
    "            downsample = nn.Sequential(nn.Conv2d(in_channels, out_channels, 1, stride), \n",
    "                                       nn.BatchNorm2d(out_channels))\n",
    "        layers.append(self.block_class(in_channels, out_channels, stride, downsample))\n",
    "    \n",
    "        # generate other blocks\n",
    "        for _ in range(self.n - 1):\n",
    "            layers.append(self.block_class(out_channels, out_channels))\n",
    "            \n",
    "        return nn.Sequential(*layers)\n",
    "    \n",
    "    def forward(self, x):\n",
    "        x = self.conv(x)\n",
    "        x = self.bn(x)\n",
    "        x = self.relu(x)\n",
    "        \n",
    "        x = self.res_block_16channels(x)\n",
    "        x = self.res_block_32channels(x)\n",
    "        x = self.res_block_64channels(x)\n",
    "        \n",
    "        x = self.avg_pool(x)\n",
    "        x = x.view(x.size(0), -1)\n",
    "        x = self.fc(x)\n",
    "        \n",
    "        return x"
   ]
  },
  {
   "cell_type": "markdown",
   "metadata": {},
   "source": [
    "### Define models etc."
   ]
  },
  {
   "cell_type": "code",
   "execution_count": 9,
   "metadata": {
    "collapsed": false
   },
   "outputs": [],
   "source": [
    "model = ResNet(ResidualBlock, 7).to(device)\n",
    "\n",
    "optimizer = torch.optim.SGD(lr=learning_rate, momentum=0.9, weight_decay=0.0001, params=model.parameters())\n",
    "criterion = nn.CrossEntropyLoss()"
   ]
  },
  {
   "cell_type": "markdown",
   "metadata": {},
   "source": [
    "### Update learning rate"
   ]
  },
  {
   "cell_type": "code",
   "execution_count": 10,
   "metadata": {
    "collapsed": true
   },
   "outputs": [],
   "source": [
    "def update_lr(optimizer, lr):\n",
    "    for param_group in optimizer.param_groups:\n",
    "        param_group['lr'] = lr"
   ]
  },
  {
   "cell_type": "markdown",
   "metadata": {},
   "source": [
    "### Evaluation function"
   ]
  },
  {
   "cell_type": "code",
   "execution_count": 11,
   "metadata": {
    "collapsed": true
   },
   "outputs": [],
   "source": [
    "def evaluate():\n",
    "    \n",
    "    model.eval()\n",
    "\n",
    "    with torch.no_grad():\n",
    "\n",
    "        total = 0\n",
    "        correct = 0\n",
    "\n",
    "        for images, labels in test_dataloader:\n",
    "\n",
    "            images = images.to(device)\n",
    "            labels = labels.to(device)\n",
    "\n",
    "            outputs = model(images)\n",
    "\n",
    "            _, prediction = torch.max(outputs.data, 1)\n",
    "\n",
    "            total += labels.size(0)\n",
    "            correct += (prediction == labels).sum().item()\n",
    "            \n",
    "            loss = 1 - correct / total\n",
    "        print('test losses: {}'.format(loss))\n",
    "    return loss"
   ]
  },
  {
   "cell_type": "markdown",
   "metadata": {},
   "source": [
    "### Train/Evaluate the model"
   ]
  },
  {
   "cell_type": "code",
   "execution_count": 12,
   "metadata": {
    "collapsed": false
   },
   "outputs": [
    {
     "name": "stdout",
     "output_type": "stream",
     "text": [
      "test losses: 0.9\n",
      "test losses: 0.9\n",
      "test losses: 0.9\n",
      "test losses: 0.9008\n",
      "test losses: 0.9\n",
      "test losses: 0.8996\n",
      "test losses: 0.9001\n",
      "test losses: 0.8998\n",
      "test losses: 0.9088\n",
      "test losses: 0.8608\n",
      "test losses: 0.8965\n",
      "test losses: 0.8743\n",
      "test losses: 0.9001\n",
      "test losses: 0.9002\n",
      "test losses: 0.9004\n",
      "test losses: 0.8996999999999999\n",
      "test losses: 0.8935\n",
      "test losses: 0.8902\n",
      "test losses: 0.8877\n",
      "test losses: 0.8795\n",
      "test losses: 0.8876\n",
      "test losses: 0.8982\n",
      "test losses: 0.9003\n",
      "test losses: 0.9007000000000001\n",
      "test losses: 0.8996\n",
      "test losses: 0.8984\n",
      "test losses: 0.9232\n",
      "test losses: 0.9187\n",
      "test losses: 0.8711\n",
      "test losses: 0.8883\n",
      "test losses: 0.8971\n",
      "test losses: 0.8981\n",
      "test losses: 0.8979\n",
      "test losses: 0.8961\n",
      "test losses: 0.8968\n",
      "test losses: 0.8973\n",
      "test losses: 0.8961\n",
      "test losses: 0.9154\n",
      "test losses: 0.8688\n",
      "test losses: 0.8673\n",
      "test losses: 0.8555\n",
      "test losses: 0.8564\n",
      "test losses: 0.8412\n",
      "test losses: 0.8199\n",
      "test losses: 0.8656\n",
      "test losses: 0.8998\n",
      "test losses: 0.8998\n",
      "test losses: 0.8936999999999999\n",
      "test losses: 0.8495\n",
      "test losses: 0.8594999999999999\n",
      "test losses: 0.856\n",
      "test losses: 0.8569\n",
      "test losses: 0.86\n",
      "test losses: 0.87\n",
      "test losses: 0.8702\n",
      "test losses: 0.8665\n",
      "test losses: 0.8826\n",
      "test losses: 0.9028\n",
      "test losses: 0.8998\n",
      "test losses: 0.886\n",
      "test losses: 0.8533\n",
      "test losses: 0.8427\n",
      "test losses: 0.8506\n",
      "test losses: 0.853\n",
      "test losses: 0.8398\n",
      "test losses: 0.8343\n",
      "test losses: 0.8222\n",
      "test losses: 0.8168\n",
      "test losses: 0.8103\n",
      "test losses: 0.8268\n",
      "test losses: 0.8303\n",
      "test losses: 0.8481\n",
      "test losses: 0.8883\n",
      "test losses: 0.899\n",
      "test losses: 0.9\n",
      "test losses: 0.8999\n",
      "test losses: 0.8973\n",
      "test losses: 0.8734999999999999\n",
      "test losses: 0.8734999999999999\n",
      "test losses: 0.8704000000000001\n",
      "test losses: 0.8787\n",
      "test losses: 0.8885\n",
      "test losses: 0.883\n",
      "test losses: 0.8684000000000001\n",
      "test losses: 0.8475\n",
      "test losses: 0.8304\n",
      "test losses: 0.855\n",
      "test losses: 0.8607\n",
      "test losses: 0.8497\n",
      "test losses: 0.8427\n",
      "test losses: 0.8612\n",
      "test losses: 0.8943\n",
      "test losses: 0.9\n",
      "test losses: 0.8964\n",
      "test losses: 0.8866\n",
      "test losses: 0.8872\n",
      "test losses: 0.8894\n",
      "test losses: 0.8766\n",
      "test losses: 0.8639\n",
      "test losses: 0.8513999999999999\n",
      "test losses: 0.8422000000000001\n",
      "test losses: 0.8422000000000001\n",
      "test losses: 0.8428\n",
      "test losses: 0.8556\n",
      "test losses: 0.8716\n",
      "test losses: 0.8929\n",
      "test losses: 0.8998\n",
      "test losses: 0.8992\n",
      "test losses: 0.8892\n",
      "test losses: 0.8679\n",
      "test losses: 0.86\n",
      "test losses: 0.8538\n",
      "test losses: 0.854\n",
      "test losses: 0.8565\n",
      "test losses: 0.8678\n",
      "test losses: 0.8794\n",
      "test losses: 0.8846\n",
      "test losses: 0.8833\n",
      "test losses: 0.868\n",
      "test losses: 0.8471\n",
      "test losses: 0.8241\n",
      "test losses: 0.8267\n",
      "test losses: 0.8267\n",
      "test losses: 0.8319\n",
      "test losses: 0.8328\n",
      "test losses: 0.8325\n",
      "test losses: 0.8365\n",
      "test losses: 0.8379\n",
      "test losses: 0.8372999999999999\n",
      "test losses: 0.8432\n",
      "test losses: 0.8449\n",
      "test losses: 0.8506\n",
      "test losses: 0.8471\n",
      "test losses: 0.8345\n",
      "test losses: 0.8265\n",
      "test losses: 0.8162\n",
      "test losses: 0.8354\n",
      "test losses: 0.8509\n",
      "test losses: 0.8503000000000001\n",
      "test losses: 0.8319\n",
      "test losses: 0.8222\n",
      "test losses: 0.8148\n",
      "test losses: 0.8299\n",
      "test losses: 0.8632\n",
      "test losses: 0.8939\n",
      "test losses: 0.8988\n",
      "test losses: 0.8984\n",
      "test losses: 0.8966\n",
      "test losses: 0.8886000000000001\n",
      "test losses: 0.8756\n",
      "test losses: 0.8634\n",
      "test losses: 0.8579\n",
      "test losses: 0.8623000000000001\n",
      "test losses: 0.8548\n",
      "test losses: 0.8458\n",
      "test losses: 0.8405\n",
      "test losses: 0.8499\n",
      "test losses: 0.8572\n",
      "test losses: 0.8644000000000001\n",
      "test losses: 0.8656\n",
      "test losses: 0.8601\n",
      "test losses: 0.8573\n",
      "test losses: 0.8492999999999999\n",
      "test losses: 0.8386\n",
      "test losses: 0.8281000000000001\n",
      "test losses: 0.8241\n",
      "test losses: 0.8225\n",
      "test losses: 0.8197\n",
      "test losses: 0.8160000000000001\n",
      "test losses: 0.8130999999999999\n",
      "test losses: 0.8126\n",
      "test losses: 0.8384\n",
      "test losses: 0.8603000000000001\n",
      "test losses: 0.8833\n",
      "test losses: 0.89\n",
      "test losses: 0.8846\n",
      "test losses: 0.873\n",
      "test losses: 0.8522000000000001\n",
      "test losses: 0.8397\n",
      "test losses: 0.8368\n",
      "test losses: 0.8381000000000001\n",
      "test losses: 0.8401000000000001\n",
      "test losses: 0.8398\n",
      "test losses: 0.8406\n",
      "test losses: 0.837\n",
      "test losses: 0.8338\n",
      "test losses: 0.8344\n",
      "test losses: 0.8354\n",
      "test losses: 0.843\n",
      "test losses: 0.8377\n",
      "test losses: 0.8266\n",
      "test losses: 0.8220000000000001\n",
      "test losses: 0.8235\n",
      "test losses: 0.831\n",
      "test losses: 0.8432\n",
      "test losses: 0.8492\n",
      "test losses: 0.847\n",
      "test losses: 0.8452999999999999\n",
      "test losses: 0.8513999999999999\n",
      "test losses: 0.8552\n",
      "test losses: 0.8382000000000001\n",
      "test losses: 0.8280000000000001\n",
      "test losses: 0.8230999999999999\n",
      "test losses: 0.8228\n",
      "test losses: 0.8305\n",
      "test losses: 0.8369\n",
      "test losses: 0.8384\n",
      "test losses: 0.8403\n",
      "test losses: 0.8558\n",
      "test losses: 0.8571\n",
      "test losses: 0.8523000000000001\n",
      "test losses: 0.8467\n",
      "test losses: 0.8432\n",
      "test losses: 0.8398\n",
      "test losses: 0.8424\n",
      "test losses: 0.8432999999999999\n",
      "test losses: 0.8441\n",
      "test losses: 0.8456\n",
      "test losses: 0.8478\n",
      "test losses: 0.8503000000000001\n",
      "test losses: 0.8528\n",
      "test losses: 0.855\n",
      "test losses: 0.8696\n",
      "test losses: 0.8825000000000001\n",
      "test losses: 0.8895\n",
      "test losses: 0.8789\n",
      "test losses: 0.8638\n",
      "test losses: 0.8506\n",
      "test losses: 0.8468\n",
      "test losses: 0.8466\n",
      "test losses: 0.848\n",
      "test losses: 0.8454\n",
      "test losses: 0.847\n",
      "test losses: 0.8481\n",
      "test losses: 0.8509\n",
      "test losses: 0.8403\n",
      "test losses: 0.8368\n",
      "test losses: 0.8443\n",
      "test losses: 0.8563000000000001\n",
      "test losses: 0.866\n",
      "test losses: 0.8687\n",
      "test losses: 0.8677\n",
      "test losses: 0.8535\n",
      "test losses: 0.8523000000000001\n",
      "test losses: 0.8564\n",
      "test losses: 0.8592\n",
      "test losses: 0.8613\n",
      "test losses: 0.8619\n",
      "test losses: 0.861\n",
      "test losses: 0.8599\n",
      "test losses: 0.8549\n",
      "test losses: 0.8505\n",
      "test losses: 0.8528\n",
      "test losses: 0.8471\n",
      "test losses: 0.842\n",
      "test losses: 0.8391\n",
      "test losses: 0.8376\n",
      "test losses: 0.8473999999999999\n",
      "test losses: 0.8525\n",
      "test losses: 0.8542\n",
      "test losses: 0.8477\n",
      "test losses: 0.8463\n",
      "test losses: 0.8432999999999999\n",
      "test losses: 0.8472\n",
      "test losses: 0.8589\n",
      "test losses: 0.8661\n",
      "test losses: 0.864\n",
      "test losses: 0.8596\n",
      "test losses: 0.8572\n",
      "test losses: 0.8448\n",
      "test losses: 0.8336\n",
      "test losses: 0.8149\n",
      "test losses: 0.8077\n",
      "test losses: 0.8099000000000001\n",
      "test losses: 0.817\n",
      "test losses: 0.8258\n",
      "test losses: 0.8337\n",
      "test losses: 0.841\n",
      "test losses: 0.8435\n",
      "test losses: 0.8498\n",
      "test losses: 0.8454\n",
      "test losses: 0.8395\n",
      "test losses: 0.8377\n",
      "test losses: 0.8379\n",
      "test losses: 0.8377\n",
      "test losses: 0.8399\n",
      "test losses: 0.8417\n",
      "test losses: 0.8408\n",
      "test losses: 0.838\n",
      "test losses: 0.8405\n",
      "test losses: 0.8411\n",
      "test losses: 0.8438\n",
      "test losses: 0.8536\n",
      "test losses: 0.8571\n",
      "test losses: 0.849\n",
      "test losses: 0.8421\n",
      "test losses: 0.8376\n",
      "test losses: 0.8339\n",
      "test losses: 0.833\n",
      "test losses: 0.8406\n",
      "test losses: 0.8406\n",
      "test losses: 0.8366\n",
      "test losses: 0.8311999999999999\n",
      "test losses: 0.8248\n",
      "test losses: 0.8242\n",
      "test losses: 0.8399\n",
      "test losses: 0.8486\n",
      "test losses: 0.8669\n",
      "test losses: 0.865\n",
      "test losses: 0.8704000000000001\n",
      "test losses: 0.8634999999999999\n",
      "test losses: 0.8397\n",
      "test losses: 0.8271\n",
      "test losses: 0.8305\n",
      "test losses: 0.8547\n",
      "test losses: 0.8668\n",
      "test losses: 0.8722\n",
      "test losses: 0.8719\n",
      "test losses: 0.8708\n",
      "test losses: 0.8564\n",
      "test losses: 0.8247\n",
      "test losses: 0.793\n",
      "test losses: 0.7945\n",
      "test losses: 0.8188\n",
      "test losses: 0.8454\n",
      "test losses: 0.8686\n",
      "test losses: 0.8533999999999999\n",
      "test losses: 0.8391\n",
      "test losses: 0.8431\n",
      "test losses: 0.8524\n",
      "test losses: 0.8613999999999999\n",
      "test losses: 0.8607\n",
      "test losses: 0.8547\n",
      "test losses: 0.8446\n",
      "test losses: 0.8397\n",
      "test losses: 0.8245\n",
      "test losses: 0.7992\n",
      "test losses: 0.7899\n",
      "test losses: 0.7977\n",
      "test losses: 0.8223\n",
      "test losses: 0.8614999999999999\n",
      "test losses: 0.8981\n",
      "test losses: 0.8996999999999999\n",
      "test losses: 0.9\n",
      "test losses: 0.8979\n",
      "test losses: 0.8745\n",
      "test losses: 0.8585\n",
      "test losses: 0.8519\n",
      "test losses: 0.8475\n",
      "test losses: 0.8481\n",
      "test losses: 0.8482000000000001\n",
      "test losses: 0.8505\n",
      "test losses: 0.8593999999999999\n",
      "test losses: 0.8645\n",
      "test losses: 0.8773\n",
      "test losses: 0.8915\n",
      "test losses: 0.8975\n",
      "test losses: 0.8922\n",
      "test losses: 0.8792\n",
      "test losses: 0.8646\n",
      "test losses: 0.8533999999999999\n",
      "test losses: 0.8463\n",
      "test losses: 0.8443\n",
      "test losses: 0.8427\n",
      "test losses: 0.8478\n",
      "test losses: 0.8505\n",
      "test losses: 0.8545\n",
      "test losses: 0.8499\n",
      "test losses: 0.8415\n",
      "test losses: 0.8434\n",
      "test losses: 0.8535\n",
      "test losses: 0.8588\n",
      "test losses: 0.8632\n",
      "test losses: 0.8513999999999999\n",
      "test losses: 0.8424\n",
      "test losses: 0.862\n",
      "test losses: 0.8801\n",
      "test losses: 0.8873\n",
      "test losses: 0.8873\n",
      "test losses: 0.884\n",
      "test losses: 0.8778\n",
      "test losses: 0.8697\n",
      "test losses: 0.8623000000000001\n",
      "test losses: 0.8519\n",
      "test losses: 0.8457\n",
      "test losses: 0.8398\n",
      "test losses: 0.8325\n",
      "test losses: 0.8297\n",
      "test losses: 0.8316\n",
      "test losses: 0.8302\n",
      "test losses: 0.8342\n"
     ]
    }
   ],
   "source": [
    "train_losses = []\n",
    "eval_losses = []\n",
    "\n",
    "curr_lr = learning_rate\n",
    "\n",
    "for epoch in range(num_epochs):\n",
    "    \n",
    "    total = 0\n",
    "    correct = 0\n",
    "    \n",
    "    for i, (images, labels) in enumerate(train_dataloader):\n",
    "        \n",
    "        model.train()\n",
    "        \n",
    "        images = images.to(device)\n",
    "        labels = labels.to(device)\n",
    "        \n",
    "        # forward\n",
    "        outputs = model(images)\n",
    "    \n",
    "        # loss\n",
    "        train_loss = criterion(outputs, labels)\n",
    "        train_losses.append(train_loss)\n",
    "        \n",
    "        # backward\n",
    "        model.zero_grad()\n",
    "        train_loss.backward()\n",
    "        optimizer.step()\n",
    "        \n",
    "        # evaluation\n",
    "        eval_loss = evaluate()\n",
    "        eval_losses.append(eval_loss)\n",
    "            \n",
    "    # update learning rate\n",
    "    if (epoch + 1) % 20 == 0:\n",
    "        curr_lr /= 3\n",
    "        update_lr(optimizer, curr_lr)"
   ]
  },
  {
   "cell_type": "markdown",
   "metadata": {},
   "source": [
    "### Plot training curve"
   ]
  },
  {
   "cell_type": "code",
   "execution_count": 13,
   "metadata": {
    "collapsed": false
   },
   "outputs": [
    {
     "data": {
      "image/png": "[encoded data removed]",
      "text/plain": [
       "<Figure size 1440x720 with 1 Axes>"
      ]
     },
     "metadata": {},
     "output_type": "display_data"
    }
   ],
   "source": [
    "plt.figure(figsize=(20, 10))\n",
    "\n",
    "plt.plot(train_losses, label='train loss')\n",
    "plt.plot(eval_losses, label='eval loss')\n",
    "plt.legend()\n",
    "\n",
    "plt.title('train/eval loss')\n",
    "\n",
    "plt.xlabel('iteration')\n",
    "plt.ylabel('loss')\n",
    "\n",
    "plt.grid(True)"
   ]
  },
  {
   "cell_type": "markdown",
   "metadata": {},
   "source": [
    "### Test the model"
   ]
  },
  {
   "cell_type": "code",
   "execution_count": 14,
   "metadata": {
    "collapsed": false
   },
   "outputs": [
    {
     "name": "stdout",
     "output_type": "stream",
     "text": [
      "test losses: 0.8342\n"
     ]
    },
    {
     "data": {
      "text/plain": [
       "0.8342"
      ]
     },
     "execution_count": 14,
     "metadata": {},
     "output_type": "execute_result"
    }
   ],
   "source": [
    "loss = evaluate()\n",
    "loss"
   ]
  },
  {
   "cell_type": "code",
   "execution_count": 15,
   "metadata": {
    "collapsed": true
   },
   "outputs": [],
   "source": []
  }
 ],
 "metadata": {
  "kernelspec": {
   "display_name": "Python 3",
   "language": "python",
   "name": "python3"
  },
  "language_info": {
   "codemirror_mode": {
    "name": "ipython",
    "version": 3
   },
   "file_extension": ".py",
   "mimetype": "text/x-python",
   "name": "python",
   "nbconvert_exporter": "python",
   "pygments_lexer": "ipython3",
   "version": "3.6.5"
  }
 },
 "nbformat": 4,
 "nbformat_minor": 2
}
