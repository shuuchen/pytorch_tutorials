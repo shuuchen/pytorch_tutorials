{
 "cells": [
  {
   "cell_type": "code",
   "execution_count": 1,
   "metadata": {},
   "outputs": [],
   "source": [
    "import torch\n",
    "import torch.nn as nn\n",
    "from torchvision import transforms, datasets\n",
    "from resnet_feature_extracter import Img2Vec\n",
    "import numpy as np\n",
    "import os\n",
    "import time\n",
    "import copy\n",
    "import matplotlib.pyplot as plt\n",
    "from PIL import Image\n",
    "\n",
    "%matplotlib inline"
   ]
  },
  {
   "cell_type": "markdown",
   "metadata": {},
   "source": [
    "### Device configuration"
   ]
  },
  {
   "cell_type": "code",
   "execution_count": 2,
   "metadata": {},
   "outputs": [],
   "source": [
    "device = torch.device('cuda' if torch.cuda.is_available() else 'cpu')"
   ]
  },
  {
   "cell_type": "markdown",
   "metadata": {},
   "source": [
    "### Hyper parameters"
   ]
  },
  {
   "cell_type": "code",
   "execution_count": 3,
   "metadata": {},
   "outputs": [],
   "source": [
    "sequence_length = 6\n",
    "input_size = 2048\n",
    "hidden_size = 32#64#1024\n",
    "num_layers = 1#2\n",
    "batch_size = sequence_length # set to the number of images of a seqence # 36\n",
    "num_epoches = 100#250\n",
    "learning_rate = 0.01"
   ]
  },
  {
   "cell_type": "markdown",
   "metadata": {},
   "source": [
    "### Feature vector extractor"
   ]
  },
  {
   "cell_type": "code",
   "execution_count": 4,
   "metadata": {},
   "outputs": [],
   "source": [
    "extractor = Img2Vec()"
   ]
  },
  {
   "cell_type": "markdown",
   "metadata": {},
   "source": [
    "### Antoencoder definition"
   ]
  },
  {
   "cell_type": "code",
   "execution_count": 5,
   "metadata": {},
   "outputs": [],
   "source": [
    "class EncoderRNN(nn.Module):\n",
    "\n",
    "    def __init__(self, input_size, hidden_size, num_layers, bidirectional):\n",
    "        super(EncoderRNN, self).__init__()\n",
    "        self.hidden_size = hidden_size\n",
    "        self.num_layers = num_layers\n",
    "        self.lstm = nn.LSTM(input_size, hidden_size, num_layers, batch_first=True, \n",
    "                            dropout=0.2, bidirectional=bidirectional)\n",
    "        self.relu = nn.ReLU()\n",
    "\n",
    "        # initialize weights\n",
    "        #nn.init.xavier_uniform_(self.lstm.weight_ih_l0, gain=np.sqrt(2))\n",
    "        #nn.init.xavier_uniform_(self.lstm.weight_hh_l0, gain=np.sqrt(2))\n",
    "        nn.init.orthogonal_(self.lstm.weight_ih_l0, gain=np.sqrt(2))\n",
    "        nn.init.orthogonal_(self.lstm.weight_hh_l0, gain=np.sqrt(2))\n",
    "\n",
    "    def forward(self, x):\n",
    "        # set initial hidden and cell states\n",
    "        h0 = torch.zeros(self.num_layers, x.size(0), self.hidden_size).to(device)\n",
    "        c0 = torch.zeros(self.num_layers, x.size(0), self.hidden_size).to(device)\n",
    "\n",
    "        # forward propagate lstm\n",
    "        out, _ = self.lstm(x, (h0, c0))  # out: tensor of shape (batch_size, seq_length, hidden_size)\n",
    "\n",
    "        return out[:, -1, :].unsqueeze(1)\n",
    "\n",
    "\n",
    "class DecoderRNN(nn.Module):\n",
    "\n",
    "    def __init__(self, hidden_size, output_size, num_layers, bidirectional):\n",
    "        super(DecoderRNN, self).__init__()\n",
    "        self.hidden_size = hidden_size\n",
    "        self.output_size = output_size\n",
    "        self.num_layers = num_layers\n",
    "        self.lstm = nn.LSTM(hidden_size, output_size, num_layers, batch_first=True,\n",
    "                            dropout=0.2, bidirectional=bidirectional)\n",
    "\n",
    "        # initialize weights\n",
    "        #nn.init.xavier_uniform_(self.lstm.weight_ih_l0, gain=np.sqrt(2))\n",
    "        #nn.init.xavier_uniform_(self.lstm.weight_hh_l0, gain=np.sqrt(2))\n",
    "        nn.init.orthogonal_(self.lstm.weight_ih_l0, gain=np.sqrt(2))\n",
    "        nn.init.orthogonal_(self.lstm.weight_hh_l0, gain=np.sqrt(2))\n",
    "        \n",
    "    def forward(self, x):\n",
    "        # set initial hidden and cell states\n",
    "        h0 = torch.zeros(self.num_layers, x.size(0), self.output_size).to(device)\n",
    "        c0 = torch.zeros(self.num_layers, x.size(0), self.output_size).to(device)\n",
    "\n",
    "        # forward propagate lstm\n",
    "        out, _ = self.lstm(x, (h0, c0))  # out: tensor of shape (batch_size, seq_length, hidden_size)\n",
    "\n",
    "        return out\n",
    "\n",
    "\n",
    "class AutoEncoderRNN(nn.Module):\n",
    "    def __init__(self, input_size, hidden_size, num_layers, bidirectional=False):\n",
    "        super(AutoEncoderRNN, self).__init__()\n",
    "        self.encoder = EncoderRNN(input_size, hidden_size, num_layers, bidirectional)\n",
    "        self.decoder = DecoderRNN(hidden_size, input_size, num_layers, bidirectional)\n",
    "\n",
    "    def forward(self, x):\n",
    "        encoded_x = self.encoder(x).expand(-1, sequence_length, -1)\n",
    "        decoded_x = self.decoder(encoded_x)\n",
    "\n",
    "        return decoded_x\n"
   ]
  },
  {
   "cell_type": "markdown",
   "metadata": {},
   "source": [
    "### Data preparation"
   ]
  },
  {
   "cell_type": "code",
   "execution_count": 6,
   "metadata": {},
   "outputs": [],
   "source": [
    "class ImageFolderWithPaths(datasets.ImageFolder):\n",
    "    \"\"\"Custom dataset that includes image file paths. Extends\n",
    "    torchvision.datasets.ImageFolder\n",
    "    \"\"\"\n",
    "\n",
    "    # override the __getitem__ method. this is the method dataloader calls\n",
    "    def __getitem__(self, index):\n",
    "        # this is what ImageFolder normally returns \n",
    "        original_tuple = super(ImageFolderWithPaths, self).__getitem__(index)\n",
    "        # the image file path\n",
    "        path = self.imgs[index][0]\n",
    "        # make a new tuple that includes original and the path\n",
    "        tuple_with_path = (original_tuple + (path,))\n",
    "        return tuple_with_path\n",
    "      "
   ]
  },
  {
   "cell_type": "code",
   "execution_count": 7,
   "metadata": {},
   "outputs": [],
   "source": [
    "'''\n",
    "data_dir = './pregnant'\n",
    "\n",
    "data_transforms = transforms.Compose([\n",
    "    transforms.Resize((224, 224)),\n",
    "    transforms.ToTensor(),\n",
    "    transforms.Normalize(mean=[0.485, 0.456, 0.406], std=[0.229, 0.224, 0.225]),])\n",
    "\n",
    "image_datasets = {x: datasets.ImageFolder(os.path.join(data_dir, x), \n",
    "                                          transform=data_transforms) for x in ['train', 'val']}\n",
    "data_loaders = {x: torch.utils.data.DataLoader(image_datasets[x], \n",
    "                                               batch_size=batch_size, shuffle=False) for x in ['train', 'val']}\n",
    "dataset_sizes = {x: len(image_datasets[x]) for x in ['train', 'val']}\n",
    "'''\n",
    "data_dir = './pregnant'\n",
    "\n",
    "data_transforms = transforms.Compose([\n",
    "    transforms.Resize((224, 224)),\n",
    "    transforms.ToTensor(),\n",
    "    transforms.Normalize(mean=[0.485, 0.456, 0.406], std=[0.229, 0.224, 0.225]),])\n",
    "\n",
    "image_datasets = {x: ImageFolderWithPaths(os.path.join(data_dir, x), \n",
    "                                          transform=data_transforms) for x in ['all']}\n",
    "data_loaders = {x: torch.utils.data.DataLoader(image_datasets[x], \n",
    "                                               batch_size=batch_size, shuffle=False) for x in ['all']}\n",
    "dataset_sizes = {x: len(image_datasets[x]) for x in ['all']}\n"
   ]
  },
  {
   "cell_type": "markdown",
   "metadata": {},
   "source": [
    "### Train the model"
   ]
  },
  {
   "cell_type": "code",
   "execution_count": 8,
   "metadata": {},
   "outputs": [],
   "source": [
    "def train_model(model, criterion, optimizer, num_epoches=25):\n",
    "    #losses = {'train': [], 'val': []}\n",
    "    losses = {'all': []}\n",
    "\n",
    "    since = time.time()\n",
    "\n",
    "    best_model_wts = copy.deepcopy(model.state_dict())\n",
    "    best_loss = 100\n",
    "\n",
    "    for epoch in range(num_epoches):\n",
    "        #print('Epoch {} / {}'.format(epoch + 1, num_epoches))\n",
    "        #print('-' * 10)\n",
    "\n",
    "        #for phase in ['train', 'val']:\n",
    "        for phase in ['all']:\n",
    "            if phase == 'val':\n",
    "                # scheduler.step()\n",
    "                model.eval()\n",
    "            else:\n",
    "                model.train()\n",
    "\n",
    "            running_loss = 0.0\n",
    "            \n",
    "            # sequence input\n",
    "            for i in range(dataset_sizes['all'] - batch_size):  \n",
    "                imgs = []\n",
    "                for ii in range(i, i + batch_size):\n",
    "                    path = os.path.join('{}{}.jpg'.format('./pregnant/all/pregnant/', ii)) \n",
    "                    img = data_transforms(Image.open(path))\n",
    "                    imgs.append(img)\n",
    "                \n",
    "                inputs = torch.stack(imgs)\n",
    "            #for inputs, _, paths in data_loaders[phase]:\n",
    "                inputs = extractor.get_vec(inputs)\n",
    "                \n",
    "                inputs = inputs.reshape(-1, sequence_length, input_size).to(device)\n",
    "\n",
    "                optimizer.zero_grad()\n",
    "\n",
    "                with torch.set_grad_enabled(phase != 'val'):\n",
    "                    outputs = model(inputs)\n",
    "\n",
    "                    inv_idx = torch.arange(sequence_length - 1, -1, -1).long()\n",
    "                    loss = criterion(outputs, inputs[:, inv_idx, :])\n",
    "\n",
    "                    if phase != 'val':\n",
    "                        loss.backward()\n",
    "                        optimizer.step()\n",
    "\n",
    "                running_loss += loss.item() * inputs.size(0)\n",
    "\n",
    "            epoch_loss = running_loss / dataset_sizes[phase]\n",
    "            \n",
    "            losses[phase].append(epoch_loss)\n",
    "\n",
    "            #print('{} Loss: {:4f}'.format(phase, epoch_loss))\n",
    "\n",
    "            if phase == 'val' and epoch_loss < best_loss:\n",
    "                best_loss = epoch_loss\n",
    "                best_model_wts = copy.deepcopy(model.state_dict())\n",
    "        \n",
    "        #print()\n",
    "\n",
    "    time_elapsed = time.time() - since\n",
    "    print('Training complete in {:.0f}m {:0f}s'.format(time_elapsed // 60, time_elapsed % 60))\n",
    "    print('Best val loss: {:4f}'.format(best_loss))\n",
    "\n",
    "    model.load_state_dict(best_model_wts)\n",
    "    return model, losses"
   ]
  },
  {
   "cell_type": "code",
   "execution_count": 9,
   "metadata": {},
   "outputs": [
    {
     "name": "stderr",
     "output_type": "stream",
     "text": [
      "/home/shuchen/anaconda3/lib/python3.6/site-packages/torch/nn/modules/rnn.py:38: UserWarning: dropout option adds dropout after all but last recurrent layer, so non-zero dropout expects num_layers greater than 1, but got dropout=0.2 and num_layers=1\n",
      "  \"num_layers={}\".format(dropout, num_layers))\n"
     ]
    },
    {
     "name": "stdout",
     "output_type": "stream",
     "text": [
      "Training complete in 72m 9.581809s\n",
      "Best val loss: 100.000000\n"
     ]
    }
   ],
   "source": [
    "model = AutoEncoderRNN(input_size, hidden_size, num_layers)\n",
    "model = model.to(device)\n",
    "criterion = nn.MSELoss()\n",
    "optimizer = torch.optim.SGD(model.parameters(), lr=learning_rate)\n",
    "\n",
    "model, losses = train_model(model, criterion, optimizer, num_epoches)\n",
    "torch.save(model.state_dict(), './lstm_autoencoder_model.pt')"
   ]
  },
  {
   "cell_type": "markdown",
   "metadata": {},
   "source": [
    "### Plot training/val curves"
   ]
  },
  {
   "cell_type": "code",
   "execution_count": 10,
   "metadata": {},
   "outputs": [
    {
     "data": {
      "image/png": "[encoded data removed]",
      "text/plain": [
       "<Figure size 1440x720 with 1 Axes>"
      ]
     },
     "metadata": {},
     "output_type": "display_data"
    }
   ],
   "source": [
    "plt.figure(figsize=(20, 10))\n",
    "\n",
    "#for phase in ['train', 'val']:\n",
    "for phase in ['all']:\n",
    "    plt.plot(losses[phase], label='{} loss'.format(phase))\n",
    " \n",
    "plt.legend()\n",
    "\n",
    "plt.title('train/val losses')\n",
    "\n",
    "plt.xlabel('iteration')\n",
    "plt.ylabel('loss')\n",
    "\n",
    "plt.grid(True)"
   ]
  }
 ],
 "metadata": {
  "kernelspec": {
   "display_name": "Python 3",
   "language": "python",
   "name": "python3"
  },
  "language_info": {
   "codemirror_mode": {
    "name": "ipython",
    "version": 3
   },
   "file_extension": ".py",
   "mimetype": "text/x-python",
   "name": "python",
   "nbconvert_exporter": "python",
   "pygments_lexer": "ipython3",
   "version": "3.6.4"
  }
 },
 "nbformat": 4,
 "nbformat_minor": 2
}
